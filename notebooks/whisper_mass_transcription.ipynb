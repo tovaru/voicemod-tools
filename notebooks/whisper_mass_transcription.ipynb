{
  "nbformat": 4,
  "nbformat_minor": 0,
  "metadata": {
    "colab": {
      "provenance": [],
      "collapsed_sections": [
        "G04BNJFuIr_a",
        "4eptltBjIv1I",
        "x0SyBWHBJ3mI"
      ]
    },
    "kernelspec": {
      "name": "python3",
      "display_name": "Python 3"
    },
    "language_info": {
      "name": "python"
    },
    "accelerator": "GPU",
    "gpuClass": "standard"
  },
  "cells": [
    {
      "cell_type": "markdown",
      "source": [
        "### 1. Settings\n",
        "Write in the path of your audio files zip, choose a Whisper model and how you want to name the character in the JSON file.\n",
        "The output JSON will have a format similar to \"hanako: {quote: {text: 'おはよう', lang: 'ja'} }\""
      ],
      "metadata": {
        "id": "dvnpGUroI8bU"
      }
    },
    {
      "cell_type": "code",
      "source": [
        "AUDIO_FILES = \"/content/drive/MyDrive/modding/ba-transcriptions/voices/JP_Hanako.zip\" #@param {type:\"string\"}\n",
        "OUTPUT_FOLER = \"/content/drive/MyDrive/modding/ba-transcriptions/transcriptions\" #@param {type:\"string\"}\n",
        "CHAR_NAME = \"hanako\" #@param {type:\"string\"}\n",
        "SHOW_PROGRESS = True #@param {type:\"boolean\"}\n",
        "WHISPER_MODEL = \"large-v2\" #@param [\"large-v2\", \"large\", \"medium\", \"small\", \"base\", \"tiny\"] {type:\"string\"}"
      ],
      "metadata": {
        "id": "vtMSZfAEJJBO"
      },
      "execution_count": 2,
      "outputs": []
    },
    {
      "cell_type": "code",
      "source": [
        "from google.colab import drive\n",
        "drive.mount('/content/drive')"
      ],
      "metadata": {
        "id": "9tjdeXk1aGok"
      },
      "execution_count": null,
      "outputs": []
    },
    {
      "cell_type": "markdown",
      "source": [
        "### 2. Install whisper requirements"
      ],
      "metadata": {
        "id": "G04BNJFuIr_a"
      }
    },
    {
      "cell_type": "code",
      "execution_count": null,
      "metadata": {
        "colab": {
          "base_uri": "https://localhost:8080/"
        },
        "id": "hdUtjlQ0IZ_v",
        "outputId": "4438df24-078b-43cc-8b9c-e86a34098e0a"
      },
      "outputs": [
        {
          "output_type": "stream",
          "name": "stdout",
          "text": [
            "Cloning into 'whisper'...\n",
            "remote: Enumerating objects: 86, done.\u001b[K\n",
            "remote: Counting objects: 100% (86/86), done.\u001b[K\n",
            "remote: Compressing objects: 100% (84/84), done.\u001b[K\n",
            "remote: Total 86 (delta 49), reused 0 (delta 0), pack-reused 0\u001b[K\n",
            "Unpacking objects: 100% (86/86), 15.41 KiB | 463.00 KiB/s, done.\n",
            "/content/whisper\n",
            "Looking in indexes: https://pypi.org/simple, https://us-python.pkg.dev/colab-wheels/public/simple/\n",
            "Collecting transformers\n",
            "  Downloading transformers-4.26.1-py3-none-any.whl (6.3 MB)\n",
            "\u001b[2K     \u001b[90m━━━━━━━━━━━━━━━━━━━━━━━━━━━━━━━━━━━━━━━━\u001b[0m \u001b[32m6.3/6.3 MB\u001b[0m \u001b[31m29.6 MB/s\u001b[0m eta \u001b[36m0:00:00\u001b[0m\n",
            "\u001b[?25hRequirement already satisfied: pyyaml>=5.1 in /usr/local/lib/python3.8/dist-packages (from transformers->-r requirements.txt (line 1)) (6.0)\n",
            "Collecting huggingface-hub<1.0,>=0.11.0\n",
            "  Downloading huggingface_hub-0.12.1-py3-none-any.whl (190 kB)\n",
            "\u001b[2K     \u001b[90m━━━━━━━━━━━━━━━━━━━━━━━━━━━━━━━━━━━━━━\u001b[0m \u001b[32m190.3/190.3 KB\u001b[0m \u001b[31m21.5 MB/s\u001b[0m eta \u001b[36m0:00:00\u001b[0m\n",
            "\u001b[?25hCollecting tokenizers!=0.11.3,<0.14,>=0.11.1\n",
            "  Downloading tokenizers-0.13.2-cp38-cp38-manylinux_2_17_x86_64.manylinux2014_x86_64.whl (7.6 MB)\n",
            "\u001b[2K     \u001b[90m━━━━━━━━━━━━━━━━━━━━━━━━━━━━━━━━━━━━━━━━\u001b[0m \u001b[32m7.6/7.6 MB\u001b[0m \u001b[31m88.9 MB/s\u001b[0m eta \u001b[36m0:00:00\u001b[0m\n",
            "\u001b[?25hRequirement already satisfied: regex!=2019.12.17 in /usr/local/lib/python3.8/dist-packages (from transformers->-r requirements.txt (line 1)) (2022.6.2)\n",
            "Requirement already satisfied: numpy>=1.17 in /usr/local/lib/python3.8/dist-packages (from transformers->-r requirements.txt (line 1)) (1.21.6)\n",
            "Requirement already satisfied: tqdm>=4.27 in /usr/local/lib/python3.8/dist-packages (from transformers->-r requirements.txt (line 1)) (4.64.1)\n",
            "Requirement already satisfied: packaging>=20.0 in /usr/local/lib/python3.8/dist-packages (from transformers->-r requirements.txt (line 1)) (23.0)\n",
            "Requirement already satisfied: filelock in /usr/local/lib/python3.8/dist-packages (from transformers->-r requirements.txt (line 1)) (3.9.0)\n",
            "Requirement already satisfied: requests in /usr/local/lib/python3.8/dist-packages (from transformers->-r requirements.txt (line 1)) (2.25.1)\n",
            "Requirement already satisfied: typing-extensions>=3.7.4.3 in /usr/local/lib/python3.8/dist-packages (from huggingface-hub<1.0,>=0.11.0->transformers->-r requirements.txt (line 1)) (4.5.0)\n",
            "Requirement already satisfied: urllib3<1.27,>=1.21.1 in /usr/local/lib/python3.8/dist-packages (from requests->transformers->-r requirements.txt (line 1)) (1.24.3)\n",
            "Requirement already satisfied: chardet<5,>=3.0.2 in /usr/local/lib/python3.8/dist-packages (from requests->transformers->-r requirements.txt (line 1)) (4.0.0)\n",
            "Requirement already satisfied: certifi>=2017.4.17 in /usr/local/lib/python3.8/dist-packages (from requests->transformers->-r requirements.txt (line 1)) (2022.12.7)\n",
            "Requirement already satisfied: idna<3,>=2.5 in /usr/local/lib/python3.8/dist-packages (from requests->transformers->-r requirements.txt (line 1)) (2.10)\n",
            "Installing collected packages: tokenizers, huggingface-hub, transformers\n",
            "Successfully installed huggingface-hub-0.12.1 tokenizers-0.13.2 transformers-4.26.1\n",
            "Looking in indexes: https://pypi.org/simple, https://us-python.pkg.dev/colab-wheels/public/simple/\n",
            "Collecting gradio\n",
            "  Downloading gradio-3.18.0-py3-none-any.whl (14.2 MB)\n",
            "\u001b[2K     \u001b[90m━━━━━━━━━━━━━━━━━━━━━━━━━━━━━━━━━━━━━━━━\u001b[0m \u001b[32m14.2/14.2 MB\u001b[0m \u001b[31m87.8 MB/s\u001b[0m eta \u001b[36m0:00:00\u001b[0m\n",
            "\u001b[?25hRequirement already satisfied: requests in /usr/local/lib/python3.8/dist-packages (from gradio) (2.25.1)\n",
            "Requirement already satisfied: pillow in /usr/local/lib/python3.8/dist-packages (from gradio) (7.1.2)\n",
            "Collecting python-multipart\n",
            "  Downloading python-multipart-0.0.5.tar.gz (32 kB)\n",
            "  Preparing metadata (setup.py) ... \u001b[?25l\u001b[?25hdone\n",
            "Requirement already satisfied: jinja2 in /usr/local/lib/python3.8/dist-packages (from gradio) (2.11.3)\n",
            "Collecting httpx\n",
            "  Downloading httpx-0.23.3-py3-none-any.whl (71 kB)\n",
            "\u001b[2K     \u001b[90m━━━━━━━━━━━━━━━━━━━━━━━━━━━━━━━━━━━━━━━━\u001b[0m \u001b[32m71.5/71.5 KB\u001b[0m \u001b[31m1.2 MB/s\u001b[0m eta \u001b[36m0:00:00\u001b[0m\n",
            "\u001b[?25hCollecting pycryptodome\n",
            "  Downloading pycryptodome-3.17-cp35-abi3-manylinux_2_17_x86_64.manylinux2014_x86_64.whl (2.1 MB)\n",
            "\u001b[2K     \u001b[90m━━━━━━━━━━━━━━━━━━━━━━━━━━━━━━━━━━━━━━━━\u001b[0m \u001b[32m2.1/2.1 MB\u001b[0m \u001b[31m69.5 MB/s\u001b[0m eta \u001b[36m0:00:00\u001b[0m\n",
            "\u001b[?25hCollecting pydub\n",
            "  Downloading pydub-0.25.1-py2.py3-none-any.whl (32 kB)\n",
            "Collecting orjson\n",
            "  Downloading orjson-3.8.6-cp38-cp38-manylinux_2_28_x86_64.whl (140 kB)\n",
            "\u001b[2K     \u001b[90m━━━━━━━━━━━━━━━━━━━━━━━━━━━━━━━━━━━━━━━\u001b[0m \u001b[32m140.7/140.7 KB\u001b[0m \u001b[31m2.8 MB/s\u001b[0m eta \u001b[36m0:00:00\u001b[0m\n",
            "\u001b[?25hRequirement already satisfied: typing-extensions in /usr/local/lib/python3.8/dist-packages (from gradio) (4.5.0)\n",
            "Requirement already satisfied: aiohttp in /usr/local/lib/python3.8/dist-packages (from gradio) (3.8.4)\n",
            "Collecting ffmpy\n",
            "  Downloading ffmpy-0.3.0.tar.gz (4.8 kB)\n",
            "  Preparing metadata (setup.py) ... \u001b[?25l\u001b[?25hdone\n",
            "Requirement already satisfied: numpy in /usr/local/lib/python3.8/dist-packages (from gradio) (1.21.6)\n",
            "Requirement already satisfied: altair>=4.2.0 in /usr/local/lib/python3.8/dist-packages (from gradio) (4.2.2)\n",
            "Collecting markdown-it-py[linkify,plugins]>=2.0.0\n",
            "  Downloading markdown_it_py-2.1.0-py3-none-any.whl (84 kB)\n",
            "\u001b[2K     \u001b[90m━━━━━━━━━━━━━━━━━━━━━━━━━━━━━━━━━━━━━━━━\u001b[0m \u001b[32m84.5/84.5 KB\u001b[0m \u001b[31m11.4 MB/s\u001b[0m eta \u001b[36m0:00:00\u001b[0m\n",
            "\u001b[?25hRequirement already satisfied: pyyaml in /usr/local/lib/python3.8/dist-packages (from gradio) (6.0)\n",
            "Requirement already satisfied: fsspec in /usr/local/lib/python3.8/dist-packages (from gradio) (2023.1.0)\n",
            "Requirement already satisfied: pandas in /usr/local/lib/python3.8/dist-packages (from gradio) (1.3.5)\n",
            "Requirement already satisfied: pydantic in /usr/local/lib/python3.8/dist-packages (from gradio) (1.10.4)\n",
            "Collecting fastapi\n",
            "  Downloading fastapi-0.92.0-py3-none-any.whl (56 kB)\n",
            "\u001b[2K     \u001b[90m━━━━━━━━━━━━━━━━━━━━━━━━━━━━━━━━━━━━━━━━\u001b[0m \u001b[32m56.2/56.2 KB\u001b[0m \u001b[31m7.5 MB/s\u001b[0m eta \u001b[36m0:00:00\u001b[0m\n",
            "\u001b[?25hRequirement already satisfied: markupsafe in /usr/local/lib/python3.8/dist-packages (from gradio) (2.0.1)\n",
            "Collecting websockets>=10.0\n",
            "  Downloading websockets-10.4-cp38-cp38-manylinux_2_5_x86_64.manylinux1_x86_64.manylinux_2_17_x86_64.manylinux2014_x86_64.whl (106 kB)\n",
            "\u001b[2K     \u001b[90m━━━━━━━━━━━━━━━━━━━━━━━━━━━━━━━━━━━━━━\u001b[0m \u001b[32m107.0/107.0 KB\u001b[0m \u001b[31m13.8 MB/s\u001b[0m eta \u001b[36m0:00:00\u001b[0m\n",
            "\u001b[?25hCollecting uvicorn\n",
            "  Downloading uvicorn-0.20.0-py3-none-any.whl (56 kB)\n",
            "\u001b[2K     \u001b[90m━━━━━━━━━━━━━━━━━━━━━━━━━━━━━━━━━━━━━━━━\u001b[0m \u001b[32m56.9/56.9 KB\u001b[0m \u001b[31m7.0 MB/s\u001b[0m eta \u001b[36m0:00:00\u001b[0m\n",
            "\u001b[?25hRequirement already satisfied: matplotlib in /usr/local/lib/python3.8/dist-packages (from gradio) (3.2.2)\n",
            "Collecting aiofiles\n",
            "  Downloading aiofiles-23.1.0-py3-none-any.whl (14 kB)\n",
            "Requirement already satisfied: entrypoints in /usr/local/lib/python3.8/dist-packages (from altair>=4.2.0->gradio) (0.4)\n",
            "Requirement already satisfied: jsonschema>=3.0 in /usr/local/lib/python3.8/dist-packages (from altair>=4.2.0->gradio) (4.3.3)\n",
            "Requirement already satisfied: toolz in /usr/local/lib/python3.8/dist-packages (from altair>=4.2.0->gradio) (0.12.0)\n",
            "Collecting mdurl~=0.1\n",
            "  Downloading mdurl-0.1.2-py3-none-any.whl (10.0 kB)\n",
            "Collecting mdit-py-plugins\n",
            "  Downloading mdit_py_plugins-0.3.4-py3-none-any.whl (52 kB)\n",
            "\u001b[2K     \u001b[90m━━━━━━━━━━━━━━━━━━━━━━━━━━━━━━━━━━━━━━━━\u001b[0m \u001b[32m52.1/52.1 KB\u001b[0m \u001b[31m6.4 MB/s\u001b[0m eta \u001b[36m0:00:00\u001b[0m\n",
            "\u001b[?25hCollecting linkify-it-py~=1.0\n",
            "  Downloading linkify_it_py-1.0.3-py3-none-any.whl (19 kB)\n",
            "Requirement already satisfied: python-dateutil>=2.7.3 in /usr/local/lib/python3.8/dist-packages (from pandas->gradio) (2.8.2)\n",
            "Requirement already satisfied: pytz>=2017.3 in /usr/local/lib/python3.8/dist-packages (from pandas->gradio) (2022.7.1)\n",
            "Requirement already satisfied: multidict<7.0,>=4.5 in /usr/local/lib/python3.8/dist-packages (from aiohttp->gradio) (6.0.4)\n",
            "Requirement already satisfied: async-timeout<5.0,>=4.0.0a3 in /usr/local/lib/python3.8/dist-packages (from aiohttp->gradio) (4.0.2)\n",
            "Requirement already satisfied: attrs>=17.3.0 in /usr/local/lib/python3.8/dist-packages (from aiohttp->gradio) (22.2.0)\n",
            "Requirement already satisfied: yarl<2.0,>=1.0 in /usr/local/lib/python3.8/dist-packages (from aiohttp->gradio) (1.8.2)\n",
            "Requirement already satisfied: aiosignal>=1.1.2 in /usr/local/lib/python3.8/dist-packages (from aiohttp->gradio) (1.3.1)\n",
            "Requirement already satisfied: frozenlist>=1.1.1 in /usr/local/lib/python3.8/dist-packages (from aiohttp->gradio) (1.3.3)\n",
            "Requirement already satisfied: charset-normalizer<4.0,>=2.0 in /usr/local/lib/python3.8/dist-packages (from aiohttp->gradio) (3.0.1)\n",
            "Collecting starlette<0.26.0,>=0.25.0\n",
            "  Downloading starlette-0.25.0-py3-none-any.whl (66 kB)\n",
            "\u001b[2K     \u001b[90m━━━━━━━━━━━━━━━━━━━━━━━━━━━━━━━━━━━━━━━━\u001b[0m \u001b[32m66.4/66.4 KB\u001b[0m \u001b[31m7.8 MB/s\u001b[0m eta \u001b[36m0:00:00\u001b[0m\n",
            "\u001b[?25hCollecting sniffio\n",
            "  Downloading sniffio-1.3.0-py3-none-any.whl (10 kB)\n",
            "Requirement already satisfied: certifi in /usr/local/lib/python3.8/dist-packages (from httpx->gradio) (2022.12.7)\n",
            "Collecting httpcore<0.17.0,>=0.15.0\n",
            "  Downloading httpcore-0.16.3-py3-none-any.whl (69 kB)\n",
            "\u001b[2K     \u001b[90m━━━━━━━━━━━━━━━━━━━━━━━━━━━━━━━━━━━━━━━━\u001b[0m \u001b[32m69.6/69.6 KB\u001b[0m \u001b[31m9.3 MB/s\u001b[0m eta \u001b[36m0:00:00\u001b[0m\n",
            "\u001b[?25hCollecting rfc3986[idna2008]<2,>=1.3\n",
            "  Downloading rfc3986-1.5.0-py2.py3-none-any.whl (31 kB)\n",
            "Requirement already satisfied: cycler>=0.10 in /usr/local/lib/python3.8/dist-packages (from matplotlib->gradio) (0.11.0)\n",
            "Requirement already satisfied: pyparsing!=2.0.4,!=2.1.2,!=2.1.6,>=2.0.1 in /usr/local/lib/python3.8/dist-packages (from matplotlib->gradio) (3.0.9)\n",
            "Requirement already satisfied: kiwisolver>=1.0.1 in /usr/local/lib/python3.8/dist-packages (from matplotlib->gradio) (1.4.4)\n",
            "Requirement already satisfied: six>=1.4.0 in /usr/local/lib/python3.8/dist-packages (from python-multipart->gradio) (1.15.0)\n",
            "Requirement already satisfied: idna<3,>=2.5 in /usr/local/lib/python3.8/dist-packages (from requests->gradio) (2.10)\n",
            "Requirement already satisfied: chardet<5,>=3.0.2 in /usr/local/lib/python3.8/dist-packages (from requests->gradio) (4.0.0)\n",
            "Requirement already satisfied: urllib3<1.27,>=1.21.1 in /usr/local/lib/python3.8/dist-packages (from requests->gradio) (1.24.3)\n",
            "Requirement already satisfied: click>=7.0 in /usr/local/lib/python3.8/dist-packages (from uvicorn->gradio) (7.1.2)\n",
            "Collecting h11>=0.8\n",
            "  Downloading h11-0.14.0-py3-none-any.whl (58 kB)\n",
            "\u001b[2K     \u001b[90m━━━━━━━━━━━━━━━━━━━━━━━━━━━━━━━━━━━━━━━━\u001b[0m \u001b[32m58.3/58.3 KB\u001b[0m \u001b[31m9.1 MB/s\u001b[0m eta \u001b[36m0:00:00\u001b[0m\n",
            "\u001b[?25hCollecting anyio<5.0,>=3.0\n",
            "  Downloading anyio-3.6.2-py3-none-any.whl (80 kB)\n",
            "\u001b[2K     \u001b[90m━━━━━━━━━━━━━━━━━━━━━━━━━━━━━━━━━━━━━━━━\u001b[0m \u001b[32m80.6/80.6 KB\u001b[0m \u001b[31m11.2 MB/s\u001b[0m eta \u001b[36m0:00:00\u001b[0m\n",
            "\u001b[?25hRequirement already satisfied: pyrsistent!=0.17.0,!=0.17.1,!=0.17.2,>=0.14.0 in /usr/local/lib/python3.8/dist-packages (from jsonschema>=3.0->altair>=4.2.0->gradio) (0.19.3)\n",
            "Requirement already satisfied: importlib-resources>=1.4.0 in /usr/local/lib/python3.8/dist-packages (from jsonschema>=3.0->altair>=4.2.0->gradio) (5.10.2)\n",
            "Collecting uc-micro-py\n",
            "  Downloading uc_micro_py-1.0.1-py3-none-any.whl (6.2 kB)\n",
            "Requirement already satisfied: zipp>=3.1.0 in /usr/local/lib/python3.8/dist-packages (from importlib-resources>=1.4.0->jsonschema>=3.0->altair>=4.2.0->gradio) (3.13.0)\n",
            "Building wheels for collected packages: ffmpy, python-multipart\n",
            "  Building wheel for ffmpy (setup.py) ... \u001b[?25l\u001b[?25hdone\n",
            "  Created wheel for ffmpy: filename=ffmpy-0.3.0-py3-none-any.whl size=4711 sha256=278c7406acfdd02d819c8fa9e7907953d575a82977468fee0ad36700f7e13b75\n",
            "  Stored in directory: /root/.cache/pip/wheels/ff/5b/59/913b443e7369dc04b61f607a746b6f7d83fb65e2e19fcc958d\n",
            "  Building wheel for python-multipart (setup.py) ... \u001b[?25l\u001b[?25hdone\n",
            "  Created wheel for python-multipart: filename=python_multipart-0.0.5-py3-none-any.whl size=31678 sha256=a06b4c4b604f2ac56e1ee3f3facd7387d5e8852fcd253fb76de4e2a63e728666\n",
            "  Stored in directory: /root/.cache/pip/wheels/9e/fc/1c/cf980e6413d3ee8e70cd8f39e2366b0f487e3e221aeb452eb0\n",
            "Successfully built ffmpy python-multipart\n",
            "Installing collected packages: rfc3986, pydub, ffmpy, websockets, uc-micro-py, sniffio, python-multipart, pycryptodome, orjson, mdurl, h11, aiofiles, uvicorn, markdown-it-py, linkify-it-py, anyio, starlette, mdit-py-plugins, httpcore, httpx, fastapi, gradio\n",
            "Successfully installed aiofiles-23.1.0 anyio-3.6.2 fastapi-0.92.0 ffmpy-0.3.0 gradio-3.18.0 h11-0.14.0 httpcore-0.16.3 httpx-0.23.3 linkify-it-py-1.0.3 markdown-it-py-2.1.0 mdit-py-plugins-0.3.4 mdurl-0.1.2 orjson-3.8.6 pycryptodome-3.17 pydub-0.25.1 python-multipart-0.0.5 rfc3986-1.5.0 sniffio-1.3.0 starlette-0.25.0 uc-micro-py-1.0.1 uvicorn-0.20.0 websockets-10.4\n"
          ]
        }
      ],
      "source": [
        "!git clone https://huggingface.co/spaces/openai/whisper\n",
        "%cd whisper\n",
        "!pip install -r requirements.txt\n",
        "!pip install gradio"
      ]
    },
    {
      "cell_type": "markdown",
      "source": [
        "### 3. Install whisper"
      ],
      "metadata": {
        "id": "4eptltBjIv1I"
      }
    },
    {
      "cell_type": "code",
      "source": [
        "! pip install git+https://github.com/openai/whisper.git -q"
      ],
      "metadata": {
        "colab": {
          "base_uri": "https://localhost:8080/"
        },
        "id": "EDn8xJ8HI0CL",
        "outputId": "4e578a68-c435-4fc3-9b6c-326be9361f0d"
      },
      "execution_count": null,
      "outputs": [
        {
          "output_type": "stream",
          "name": "stdout",
          "text": [
            "  Preparing metadata (setup.py) ... \u001b[?25l\u001b[?25hdone\n",
            "  Building wheel for openai-whisper (setup.py) ... \u001b[?25l\u001b[?25hdone\n"
          ]
        }
      ]
    },
    {
      "cell_type": "markdown",
      "source": [
        "### 4. Unzip audio files"
      ],
      "metadata": {
        "id": "x0SyBWHBJ3mI"
      }
    },
    {
      "cell_type": "code",
      "source": [
        "import zipfile\n",
        "import os\n",
        "\n",
        "with zipfile.ZipFile(AUDIO_FILES, 'r') as zip_ref:\n",
        "    zip_ref.extractall(\"/content\")\n",
        "\n",
        "# get the path of the folder where contents were extracted\n",
        "file_name = os.path.basename(AUDIO_FILES)\n",
        "file_name = os.path.splitext(file_name)[0]\n",
        "EXTRACTED_FILES_PATH = os.path.join(\"/content\",file_name)"
      ],
      "metadata": {
        "id": "6gl8bahIJ-gj"
      },
      "execution_count": null,
      "outputs": []
    },
    {
      "cell_type": "markdown",
      "source": [
        "### 5. Transcribe"
      ],
      "metadata": {
        "id": "mgNOqiQHI07b"
      }
    },
    {
      "cell_type": "code",
      "source": [
        "import whisper\n",
        "model = whisper.load_model(WHISPER_MODEL)"
      ],
      "metadata": {
        "id": "AY7W-xk6aBGP"
      },
      "execution_count": null,
      "outputs": []
    },
    {
      "cell_type": "code",
      "source": [
        "def transcribe(path):\n",
        "  # load audio and pad/trim it to fit 30 seconds\n",
        "  audio = whisper.load_audio(path)\n",
        "  audio = whisper.pad_or_trim(audio)\n",
        "\n",
        "  # make log-Mel spectrogram and move to the same device as the model\n",
        "  mel = whisper.log_mel_spectrogram(audio).to(model.device)\n",
        "\n",
        "  # detect the spoken language\n",
        "  _, probs = model.detect_language(mel)\n",
        "  #print(f\"Detected language: {max(probs, key=probs.get)}\")\n",
        "\n",
        "  # decode the audio\n",
        "  options = whisper.DecodingOptions()\n",
        "  result = whisper.decode(model, mel, options)\n",
        "\n",
        "  return result.text, max(probs, key=probs.get)\n",
        "\n",
        "# transcribes all audio files in a folder\n",
        "# returns them as a dictionary, with file names as the keys\n",
        "def transcribe_folder(path):\n",
        "  entries = {}\n",
        "  for file in os.listdir(path):\n",
        "    fullpath = os.path.join(path, file)\n",
        "    if os.path.isfile(fullpath):\n",
        "      try:\n",
        "        result, lang = transcribe(fullpath)\n",
        "      except:\n",
        "        if SHOW_PROGRESS:\n",
        "          print(\"Failed to transcribe \" + file)\n",
        "        continue\n",
        "\n",
        "      entry = {\n",
        "          \"quote\": {\n",
        "              lang: result\n",
        "              }\n",
        "            }\n",
        "      entries[file] = entry\n",
        "      if SHOW_PROGRESS:\n",
        "        print(file + \":\")\n",
        "        print(f\"{lang}: {result}\")\n",
        "\n",
        "  return entries"
      ],
      "metadata": {
        "id": "5U6RkQwuI53J"
      },
      "execution_count": null,
      "outputs": []
    },
    {
      "cell_type": "code",
      "source": [
        "import sys\n",
        "import json\n",
        "\n",
        "# transcribe all audio files using the selected model\n",
        "print(f\"Transcribing with whisper {WHISPER_MODEL}...\")\n",
        "transcriptions = transcribe_folder(EXTRACTED_FILES_PATH)\n",
        "\n",
        "# save file\n",
        "with open(f\"{OUTPUT_FOLER}/{CHAR_NAME}_transcriptions.json\", \"w\", encoding=\"utf-8\") as f:\n",
        "  f.write(json.dumps(transcriptions, indent=4, ensure_ascii=False))\n",
        "print(\"Finished transcribing.\")"
      ],
      "metadata": {
        "colab": {
          "base_uri": "https://localhost:8080/",
          "height": 1000
        },
        "id": "1OfAYXSfQP9V",
        "outputId": "c2955bf9-8439-468a-e11d-75a33207450f"
      },
      "execution_count": null,
      "outputs": [
        {
          "output_type": "stream",
          "name": "stdout",
          "text": [
            "Transcribing with whisper...\n",
            "Hanako_Cafe_monolog_2.ogg:\n",
            "ja: この内装は先生が?素敵ですね\n",
            "Hanako_Season_Birthday.ogg:\n",
            "ja: 誕生日プレゼントですか?あ、先生がプレゼントなんて素敵かもしれませんね包みは私が解いてもいいですか?\n",
            "Hanako_Formation_In_2.ogg:\n",
            "ja: ふふふ、私のことを求めてくれるなんて。\n",
            "Hanako_LogIn_1.ogg:\n",
            "ja: お帰りなさい先生 今日もよろしくお願い致します\n",
            "Hanako_ExSkill_3.ogg:\n",
            "ja: では、あ゛っ……!\n",
            "Hanako_Battle_Move_2.ogg:\n",
            "ja: まだまだいけますよー\n",
            "Hanako_Gachaget.ogg:\n",
            "ja: 裏は花子です これから色々とよろしくお願いしますねはい それはもう色々と\n",
            "Hanako_Battle_Damage_2.ogg:\n",
            "ja: いったぁ\n",
            "Hanako_MemorialLobby_4_2.ogg:\n",
            "ja: いけないことをしてる?そんな感じがして。\n",
            "Hanako_MemorialLobby_2_1.ogg:\n",
            "ja: こうしていると涼しくて とっても気持ちいいんですよ\n",
            "Hanako_MemorialLobby_3_2.ogg:\n",
            "ja: ここで一緒に…脱いでしまいません?\n",
            "Hanako_Battle_Shout_2.ogg:\n",
            "en: H E Y!\n",
            "Hanako_Relationship_Up_2.ogg:\n",
            "ja: まだまだ、いけますよね?先生\n",
            "Hanako_Lobby_4.ogg:\n",
            "ja: 先生 何か私にしてほしいことはありますか\n",
            "Hanako_Tactic_In_1.ogg:\n",
            "ja: さあ、始めましょうか\n",
            "Hanako_Tactic_In_2.ogg:\n",
            "ja: 全部、先生の言う通りにしますようふふ\n",
            "Hanako_Cafe_monolog_1.ogg:\n",
            "ja: あら、可愛らしいところですね\n",
            "Hanako_Battle_Covered_1.ogg:\n",
            "ja: うふふっ\n",
            "Hanako_Cafe_Act_2.ogg:\n",
            "ja: この空間、見ているだけで楽しいですね\n",
            "Hanako_Tactic_Defeat_2.ogg:\n",
            "ja: 少し よそ見をしすぎました\n",
            "Hanako_Battle_Defense_1.ogg:\n",
            "ja: ふふふっ、そんな程度ですか?\n",
            "Hanako_Tactic_Defeat_1.ogg:\n",
            "ja: もう、足腰が立ちません\n",
            "Hanako_ExSkill_Level_3.ogg:\n",
            "ja: ちゃんと受け止めてくださいね\n",
            "Hanako_Formation_Select.ogg:\n",
            "ja: あら、大胆ですね\n",
            "Hanako_Lobby_5.ogg:\n",
            "ja: えへへ、先生のその表情が見たかったんです\n",
            "Hanako_Tactic_Victory_1.ogg:\n",
            "ja: こんな感じでいいでしょうか?\n",
            "Hanako_Season_NewYear.ogg:\n",
            "ja: 私も色々とよろしくお願いします先生 困らせてしまうことも多いかもしれませんがこれからも私のこと 見捨てないでくださいね\n",
            "Hanako_Relationship_Up_3.ogg:\n",
            "ja: 先生には、ありのままの私を見ていただきたいです\n",
            "Hanako_Battle_BuffSelf_1.ogg:\n",
            "ja: もっと大胆になってもいいですか?\n",
            "Hanako_Season_Xmas.ogg:\n",
            "ja: 聖なる夜…わぁ、すごく楽しみですねあ、ただの一人言です。お気になさらず\n",
            "Hanako_Season_Halloween.ogg:\n",
            "ja: ハロウィンといえば、さりげなく大胆な露出ができる日えっ? 誤解ですか?\n",
            "Hanako_ExSkill_Level_2.ogg:\n",
            "ja: 喜んでいただけると嬉しいです\n",
            "Hanako_MemorialLobby_4_1.ogg:\n",
            "ja: ふふっ、こうして、こんなまっぴるまから素肌をさらしていると、なんだか楽しくなってくるんですよ。\n",
            "Hanako_Battle_Move_1.ogg:\n",
            "ja: 見つけましたよ\n",
            "Hanako_MemorialLobby_2_2.ogg:\n",
            "ja: 私にとっての特等席なんです\n",
            "Hanako_Battle_Retire.ogg:\n",
            "ja: こんな…はずでは…\n",
            "Hanako_Season_Birthday_Player.ogg:\n",
            "ja: お誕生日おめでとうございます先生 何か欲しいものなどはありませんか何もないのでしたら あれでもいいんですよ\n",
            "Hanako_ExSkill_1.ogg:\n",
            "ja: さて!あら?うふふご視聴ありがとうございましたチャンネル登録をお願いいたしますまたね!\n",
            "Hanako_Battle_Damage_1.ogg:\n",
            "ja: あ゛っ!!\n",
            "Hanako_Battle_Shout_1.ogg:\n",
            "ja: いやっ\n",
            "Hanako_Lobby_3.ogg:\n",
            "ja: どういう意味か…ですか?それはもう、先生のお望みどおりの意味で…\n",
            "Hanako_Cafe_monolog_3.ogg:\n",
            "ja: ここに置いていったら 誰かが驚くでしょうか\n",
            "Hanako_Growup_3.ogg:\n",
            "ja: 今度、きちんとお返しをしますね。はい、先生のお望みのもので。\n",
            "Hanako_Lobby_1.ogg:\n",
            "ja: ここで当番をするのはすごく楽しいですね\n",
            "Hanako_Battle_In_1.ogg:\n",
            "ja: 楽しんでいきましょう\n",
            "Hanako_Growup_4.ogg:\n",
            "ja: ここまで大切にしてくださると私…そろそろ…我慢できなくなってしまいますよ?\n",
            "Hanako_Cafe_Act_1.ogg:\n",
            "ja: うふふっ、ちょっと、いたずらでもしておきましょうか。\n",
            "Hanako_MemorialLobby_3_1.ogg:\n",
            "ja: せっかくですし 先生もいかがですか\n",
            "Hanako_Battle_Buffed_1.ogg:\n",
            "ja: もっともっと頑張りますね\n",
            "Hanako_MemorialLobby_1_2.ogg:\n",
            "ja: 来ていただいてありがとうございます\n",
            "Hanako_Tactic_Victory_2.ogg:\n",
            "ja: さすが先生!すっごいです!\n",
            "Hanako_Battle_Victory_1.ogg:\n",
            "ja: 楽しかったですね\n",
            "Hanako_Relationship_Up_1.ogg:\n",
            "ja: 先生のこと 信じてもよろしいのでしょうか\n",
            "Hanako_Lobby_2.ogg:\n",
            "ja: 今ここにいるのは私たち二人だけこれは期待してもいいんでしょうか?\n",
            "Hanako_Battle_Victory_2.ogg:\n",
            "ja: ふふっ、いかがでしたか、先生?\n",
            "Hanako_CommonSkill.ogg:\n",
            "ja: 行きますよー\n",
            "Hanako_Battle_Recovery_1.ogg:\n",
            "ja: ありがとうございます\n",
            "Hanako_Growup_2.ogg:\n",
            "ja: ありがとうございます先生\n",
            "Hanako_Battle_TacticalAction_1.ogg:\n",
            "ja: よいしょ!\n",
            "Hanako_Growup_1.ogg:\n",
            "ja: ふふっ、また少し成長したと思いませんか?\n",
            "Hanako_MemorialLobby_1_1.ogg:\n",
            "ja: こんにちは先生\n",
            "Hanako_Battle_Damage_3.ogg:\n",
            "ja: 今のは痛かったですね\n",
            "Hanako_Relationship_Up_4.ogg:\n",
            "ja: 先生は、辛くて苦しい方が好きだったりしますか?\n",
            "Hanako_Battle_Shout_3.ogg:\n",
            "ja: はぁっ!?\n",
            "Hanako_ExWeapon_Get.ogg:\n",
            "ja: 先生は困った方ですね そんなに私の全部が見たいのですか?うふふっ 実力のお話です今 一体何を考えていたのでしょう\n",
            "Hanako_LogIn_2.ogg:\n",
            "ja: ふふふっ お待ちしておりましたよ 先生\n",
            "Hanako_Formation_In_1.ogg:\n",
            "ja: あら、私の出番ですか?\n",
            "Hanako_ExSkill_Level_1.ogg:\n",
            "ja: お役に立てるといいのですが\n",
            "Hanako_Battle_In_2.ogg:\n",
            "ja: 期待しててくださいね\n",
            "Hanako_ExSkill_2.ogg:\n",
            "ja: いきます!あっ!ふふふっ\n",
            "Finished transcribing.\n",
            "Skipped matching.\n"
          ]
        },
        {
          "output_type": "error",
          "ename": "SystemExit",
          "evalue": "ignored",
          "traceback": [
            "An exception has occurred, use %tb to see the full traceback.\n",
            "\u001b[0;31mSystemExit\u001b[0m\u001b[0;31m:\u001b[0m 0\n"
          ]
        },
        {
          "output_type": "stream",
          "name": "stderr",
          "text": [
            "/usr/local/lib/python3.8/dist-packages/IPython/core/interactiveshell.py:3334: UserWarning: To exit: use 'exit', 'quit', or Ctrl-D.\n",
            "  warn(\"To exit: use 'exit', 'quit', or Ctrl-D.\", stacklevel=1)\n"
          ]
        }
      ]
    }
  ]
}